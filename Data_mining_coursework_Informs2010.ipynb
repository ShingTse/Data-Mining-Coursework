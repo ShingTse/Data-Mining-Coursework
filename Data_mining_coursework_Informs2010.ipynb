{
 "cells": [
  {
   "cell_type": "code",
   "execution_count": 19,
   "metadata": {
    "collapsed": true
   },
   "outputs": [],
   "source": [
    "import matplotlib.pyplot as plt\n",
    "import numpy as np\n",
    "import pandas as pd\n",
    "import matplotlib.pyplot as plt\n",
    "import math\n",
    "import sys\n",
    "from sklearn.model_selection import train_test_split\n",
    "sys.path.append(\"..\")\n",
    "from scipy.stats import kurtosis\n",
    "from sklearn.preprocessing import StandardScaler\n",
    "from sklearn.metrics import classification_report,accuracy_score,roc_auc_score"
   ]
  },
  {
   "cell_type": "code",
   "execution_count": 10,
   "metadata": {},
   "outputs": [
    {
     "name": "stderr",
     "output_type": "stream",
     "text": [
      "/root/miniconda3/lib/python3.6/site-packages/IPython/core/interactiveshell.py:2698: DtypeWarning: Columns (1,2,3,4) have mixed types. Specify dtype option on import or set low_memory=False.\n",
      "  interactivity=interactivity, compiler=compiler, result=result)\n"
     ]
    }
   ],
   "source": [
    "#Handling with zero values or null data:\n",
    "df = pd.read_csv('TrainingData.csv', delimiter=',', skip_blank_lines=True)\n",
    "df=df.drop(['Timestamp'],axis=1)\n",
    "df = df.dropna(axis=1, how='all')\n",
    "df=df.sample(frac=1)\n",
    "df = df.replace('-',value=np.NaN)\n",
    "df = df.fillna(method='ffill')\n",
    "df = df.fillna(method='bfill')\n",
    "target = df[['TargetVariable']]\n",
    "my_data = df.drop(['TargetVariable'], axis=1)"
   ]
  },
  {
   "cell_type": "code",
   "execution_count": 11,
   "metadata": {
    "collapsed": true
   },
   "outputs": [],
   "source": [
    "x_train,x_valid,y_train,y_valid=train_test_split(my_data,target,test_size=0.2,shuffle=False)"
   ]
  },
  {
   "cell_type": "code",
   "execution_count": 12,
   "metadata": {},
   "outputs": [
    {
     "name": "stderr",
     "output_type": "stream",
     "text": [
      "/root/miniconda3/lib/python3.6/site-packages/sklearn/utils/validation.py:578: DataConversionWarning: A column-vector y was passed when a 1d array was expected. Please change the shape of y to (n_samples, ), for example using ravel().\n",
      "  y = column_or_1d(y, warn=True)\n"
     ]
    },
    {
     "name": "stdout",
     "output_type": "stream",
     "text": [
      "(4737, 10)\n",
      "(1185, 10)\n"
     ]
    }
   ],
   "source": [
    "#Select features using mutual information:\n",
    "from sklearn.feature_selection import SelectKBest\n",
    "from sklearn.feature_selection import mutual_info_classif\n",
    "Model = SelectKBest(mutual_info_classif, k=10).fit(x_train,y_train)\n",
    "X_train = Model.transform(x_train)\n",
    "X_valid = Model.transform(x_valid)\n",
    "print(X_train.shape)\n",
    "print(X_valid.shape)"
   ]
  },
  {
   "cell_type": "code",
   "execution_count": 13,
   "metadata": {},
   "outputs": [
    {
     "name": "stderr",
     "output_type": "stream",
     "text": [
      "/root/miniconda3/lib/python3.6/site-packages/sklearn/ensemble/weight_boosting.py:29: DeprecationWarning: numpy.core.umath_tests is an internal NumPy module and should not be imported. It will be removed in a future NumPy release.\n",
      "  from numpy.core.umath_tests import inner1d\n",
      "/root/miniconda3/lib/python3.6/site-packages/ipykernel_launcher.py:5: DataConversionWarning: A column-vector y was passed when a 1d array was expected. Please change the shape of y to (n_samples,), for example using ravel().\n",
      "  \"\"\"\n"
     ]
    },
    {
     "name": "stdout",
     "output_type": "stream",
     "text": [
      "(4737, 325)\n",
      "(1185, 325)\n"
     ]
    }
   ],
   "source": [
    "#Select features based on importances using Decision tree classifier\n",
    "from sklearn.ensemble import ExtraTreesClassifier\n",
    "from sklearn.feature_selection import SelectFromModel\n",
    "clf = ExtraTreesClassifier()\n",
    "clf = clf.fit(x_train, y_train)\n",
    "clf.feature_importances_  \n",
    "model = SelectFromModel(clf, prefit=True)\n",
    "X_train = model.transform(x_train)\n",
    "X_valid= model.transform(x_valid)\n",
    "print(X_train.shape)\n",
    "print(X_valid.shape)"
   ]
  },
  {
   "cell_type": "code",
   "execution_count": 33,
   "metadata": {},
   "outputs": [
    {
     "name": "stderr",
     "output_type": "stream",
     "text": [
      "/root/miniconda3/lib/python3.6/site-packages/sklearn/utils/validation.py:578: DataConversionWarning: A column-vector y was passed when a 1d array was expected. Please change the shape of y to (n_samples, ), for example using ravel().\n",
      "  y = column_or_1d(y, warn=True)\n"
     ]
    },
    {
     "name": "stdout",
     "output_type": "stream",
     "text": [
      "Logistic regression Acc: 0.7029535864978903\n",
      "Logistic regression AUC : 0.752005626482614\n",
      "Mean accuracy: 0.7029535864978903\n"
     ]
    }
   ],
   "source": [
    "#With variable selection\n",
    "from sklearn.linear_model import LogisticRegression\n",
    "model = LogisticRegression()\n",
    "model = model.fit(X_train, y_train)\n",
    "y_predicted=model.predict(X_valid)\n",
    "props=model.predict_proba(X_valid)[:,1]\n",
    "auc=roc_auc_score(y_valid,props)\n",
    "print('Logistic regression Acc:',accuracy_score(y_valid,y_predicted))\n",
    "print('Logistic regression AUC :',auc)\n",
    "print('Mean accuracy:',model.score(X_valid,y_valid))"
   ]
  },
  {
   "cell_type": "code",
   "execution_count": 34,
   "metadata": {},
   "outputs": [
    {
     "name": "stderr",
     "output_type": "stream",
     "text": [
      "/root/miniconda3/lib/python3.6/site-packages/sklearn/utils/validation.py:578: DataConversionWarning: A column-vector y was passed when a 1d array was expected. Please change the shape of y to (n_samples, ), for example using ravel().\n",
      "  y = column_or_1d(y, warn=True)\n"
     ]
    },
    {
     "name": "stdout",
     "output_type": "stream",
     "text": [
      "Logistic regression Acc: 0.7088607594936709\n",
      "Logistic regression AUC : 0.752005626482614\n",
      "Mean accuracy: 0.7088607594936709\n"
     ]
    }
   ],
   "source": [
    "#Logistic regression without variable selection\n",
    "from sklearn.linear_model import LogisticRegression\n",
    "model = LogisticRegression()\n",
    "model = model.fit(x_train, y_train)\n",
    "y_predicted=model.predict(x_valid)\n",
    "props=model.predict_proba(x_valid)[:,1]\n",
    "model.score(x_valid,y_valid)\n",
    "print('Logistic regression Acc:',accuracy_score(y_valid,y_predicted))\n",
    "print('Logistic regression AUC :',auc)\n",
    "print('Mean accuracy:',model.score(x_valid,y_valid))"
   ]
  },
  {
   "cell_type": "code",
   "execution_count": 26,
   "metadata": {},
   "outputs": [
    {
     "name": "stderr",
     "output_type": "stream",
     "text": [
      "/root/miniconda3/lib/python3.6/site-packages/sklearn/utils/validation.py:578: DataConversionWarning: A column-vector y was passed when a 1d array was expected. Please change the shape of y to (n_samples, ), for example using ravel().\n",
      "  y = column_or_1d(y, warn=True)\n"
     ]
    },
    {
     "name": "stdout",
     "output_type": "stream",
     "text": [
      "SVM Acc: 0.7223628691983123\n",
      "SVM AUC: 0.8119598517088057\n",
      "Mean accuracy: 0.7223628691983123\n"
     ]
    }
   ],
   "source": [
    "from sklearn import svm\n",
    "'SVM Classifier with variable selection'\n",
    "SVC=svm.SVC(probability=True)\n",
    "SVC=SVC.fit(X_train,y_train)\n",
    "y_predicted=SVC.predict(X_valid)\n",
    "props=SVC.predict_proba(X_valid)[:,1]\n",
    "auc=roc_auc_score(y_valid,props)\n",
    "print('SVM Acc:',accuracy_score(y_valid,y_predicted))\n",
    "print('SVM AUC:',auc)\n",
    "print('Mean accuracy:',SVC.score(X_valid,y_valid))"
   ]
  },
  {
   "cell_type": "code",
   "execution_count": 27,
   "metadata": {},
   "outputs": [
    {
     "name": "stderr",
     "output_type": "stream",
     "text": [
      "/root/miniconda3/lib/python3.6/site-packages/sklearn/utils/validation.py:578: DataConversionWarning: A column-vector y was passed when a 1d array was expected. Please change the shape of y to (n_samples, ), for example using ravel().\n",
      "  y = column_or_1d(y, warn=True)\n"
     ]
    },
    {
     "name": "stdout",
     "output_type": "stream",
     "text": [
      "SVM Acc: 0.7071729957805907\n",
      "SVM AUC: 0.8005563899915364\n",
      "Mean accuracy: 0.7071729957805907\n"
     ]
    }
   ],
   "source": [
    "'SVM classifiier without variable selection'\n",
    "SVC=SVC.fit(x_train,y_train)\n",
    "y_predicted=SVC.predict(x_valid)\n",
    "props=SVC.predict_proba(x_valid)[:,1]\n",
    "auc=roc_auc_score(y_valid,props)\n",
    "print('SVM Acc:',accuracy_score(y_valid,y_predicted))\n",
    "print('SVM AUC:',auc)\n",
    "print('Mean accuracy:',SVC.score(x_valid,y_valid))"
   ]
  },
  {
   "cell_type": "code",
   "execution_count": null,
   "metadata": {
    "collapsed": true
   },
   "outputs": [],
   "source": []
  }
 ],
 "metadata": {
  "kernelspec": {
   "display_name": "Python 3",
   "language": "python",
   "name": "python3"
  },
  "language_info": {
   "codemirror_mode": {
    "name": "ipython",
    "version": 3
   },
   "file_extension": ".py",
   "mimetype": "text/x-python",
   "name": "python",
   "nbconvert_exporter": "python",
   "pygments_lexer": "ipython3",
   "version": "3.6.1"
  }
 },
 "nbformat": 4,
 "nbformat_minor": 2
}
